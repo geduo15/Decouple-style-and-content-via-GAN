{
 "cells": [
  {
   "cell_type": "code",
   "execution_count": null,
   "metadata": {
    "collapsed": false
   },
   "outputs": [],
   "source": [
    "from tensorflow.examples.tutorials.mnist import input_data\n",
    "import tensorflow as tf\n",
    "mnist = input_data.read_data_sets(\"MNIST_data/\", one_hot=True)"
   ]
  },
  {
   "cell_type": "code",
   "execution_count": null,
   "metadata": {
    "collapsed": false
   },
   "outputs": [],
   "source": [
    "import sys\n",
    "import numpy as np\n",
    "import scipy.misc\n",
    "import os\n",
    "os.environ.setdefault('CUDA_VISIBLE_DEVICES','1')"
   ]
  },
  {
   "cell_type": "code",
   "execution_count": null,
   "metadata": {
    "collapsed": true
   },
   "outputs": [],
   "source": [
    "def linear(input, output_dim, scope=None, stddev=0.01):\n",
    "    norm = tf.random_normal_initializer(stddev=stddev)\n",
    "    const = tf.constant_initializer(0.0)\n",
    "    with tf.variable_scope(scope or 'linear'):\n",
    "        w = tf.get_variable('w', [input.get_shape()[1], output_dim], initializer=norm)\n",
    "        b = tf.get_variable('b', [output_dim], initializer=const)\n",
    "        return tf.matmul(input, w) + b"
   ]
  },
  {
   "cell_type": "code",
   "execution_count": null,
   "metadata": {
    "collapsed": false
   },
   "outputs": [],
   "source": [
    "# Create the model\n",
    "x = tf.placeholder(tf.float32, [None, 784])\n",
    "y_ = tf.placeholder(tf.float32, [None, 10])\n",
    "\n",
    "hidden  = tf.nn.relu(linear(y_,  1000, scope='c_h1', stddev=0.01))\n",
    "a1 = tf.nn.relu(linear(hidden,  1000, scope='c_a1', stddev=0.01))\n",
    "a2 = tf.nn.relu(linear(hidden,  1000, scope='c_a2', stddev=0.01))\n",
    "a3 = tf.nn.relu(linear(hidden,  1000, scope='c_a3', stddev=0.01))\n",
    "b1 = tf.nn.relu(linear(hidden,  1000, scope='c_b1', stddev=0.01))\n",
    "b2 = tf.nn.relu(linear(hidden,  1000, scope='c_b2', stddev=0.01))\n",
    "b3 = tf.nn.relu(linear(hidden,  1000, scope='c_b3', stddev=0.01))\n",
    "\n",
    "\n",
    "\n",
    "h1 =linear(x,  1000, scope='c_layer1', stddev=0.01)\n",
    "h1_c = tf.nn.relu(tf.multiply(h1,a1)+b1)\n",
    "h2 = tf.nn.relu(linear(h1_c, 1000, scope='c_layer2', stddev=0.01))\n",
    "h2_c = tf.nn.relu(tf.multiply(h2,a2)+b2)\n",
    "h3 = tf.nn.relu(linear(h2_c, 1000, scope='c_layer3', stddev=0.01))\n",
    "h3_c = tf.nn.relu(tf.multiply(h3,a3)+b3)\n",
    "h4 = linear(h3_c, 784, scope='c_layer4', stddev=0.01)\n",
    "out_vecter = tf.sigmoid(h4)\n",
    "out_image = tf.reshape(out_vecter,[-1,28,28])\n",
    "\n",
    "def recognition_network(images,reuse = False):\n",
    "    if reuse:\n",
    "            tf.get_variable_scope().reuse_variables()\n",
    "    output = tf.nn.relu(linear(images, 1000, scope='r_layer1', stddev=0.01))\n",
    "    output = tf.nn.softmax(linear(output, 10, scope='r_layer2', stddev=0.01))\n",
    "    return output\n",
    "\n",
    "# Define loss and optimizer\n",
    "y_clf = recognition_network(x)\n",
    "y_clf_g = recognition_network(out_vecter,reuse =True)\n",
    "\n",
    "cross_entropy_recog = tf.reduce_mean(tf.nn.softmax_cross_entropy_with_logits(None,y_,y_clf))\n",
    "cross_entropy_gen = tf.reduce_mean(tf.nn.softmax_cross_entropy_with_logits(None, y_,y_clf_g)) \n",
    "# + \\\n",
    "# tf.reduce_mean(tf.nn.softmax_cross_entropy_with_logits(y_clf_g, y_))\n",
    "reconstruction_loss = tf.reduce_mean(tf.squared_difference(out_vecter,x))\n",
    "loss = reconstruction_loss + 7.2*cross_entropy_gen\n",
    "#cross_entropy = tf.reduce_mean(tf.nn.softmax_cross_entropy_with_logits(y, y_))\n",
    "#train_step = tf.train.GradientDescentOptimizer(0.01).minimize(loss)\n",
    "#t_vars = tf.trainable_variables()\n",
    "t_vars = tf.trainable_variables()\n",
    "contr_params = [var for var in t_vars if 'c_' in var.name]\n",
    "recog_params = [var for var in t_vars if 'r_' in var.name]\n",
    "\n",
    "optim = tf.train.AdamOptimizer(learning_rate=1e-3).minimize(loss,var_list=contr_params) \n",
    "optim_recog = tf.train.AdamOptimizer(learning_rate=1e-3).minimize(cross_entropy_recog,var_list=recog_params) \n",
    "\n",
    "session_conf = tf.ConfigProto(gpu_options = tf.GPUOptions(per_process_gpu_memory_fraction=0.5),\n",
    "                              allow_soft_placement=True,\n",
    "                              log_device_placement=False)\n",
    "sess = tf.InteractiveSession(config=session_conf)\n",
    "# Train\n",
    "tf.initialize_all_variables().run()\n",
    "batch_size = 100\n",
    "#pretrain recognition network\n",
    "# for step in range(5001):\n",
    "#     batch_xs, batch_ys = mnist.train.next_batch(batch_size)\n",
    "#     _ = sess.run(optim_recog,feed_dict={x: batch_xs,y_:batch_ys})\n",
    "\n",
    "for step in range(3001):\n",
    "    batch_xs, batch_ys = mnist.train.next_batch(batch_size)\n",
    "    norm_image = np.random.uniform(0, 1, [batch_size,784]).astype(np.float32)\n",
    "    if np.random.rand(1)>1:\n",
    "        batch_xs = norm_image\n",
    "    x_bat = np.reshape(batch_xs,[-1,28,28])\n",
    "    samples,_,_,loss_,cross_entropy_gen_,reconstruction_loss_ = sess.run([out_image,\n",
    "                                                                        optim_recog,\n",
    "                                                                          optim,\n",
    "                                                                          loss,\n",
    "                                                                          cross_entropy_gen,\n",
    "                                                                          reconstruction_loss]\n",
    "                                                                          ,feed_dict={x: batch_xs,y_:batch_ys})\n",
    "    \n",
    "    if step %50 ==0:\n",
    "        print('step : '+str(step)+' loss : '+ str(loss_)\\\n",
    "              +' loss_reconstruction : '+ str(reconstruction_loss_)\\\n",
    "              +' loss_gen : '+ str(cross_entropy_gen_))\n",
    "   \n",
    "    if step % 2000 ==0:\n",
    "        scipy.misc.imsave('./sample/%s_input.png'% (step),x_bat[1])    \n",
    "        scipy.misc.imsave('./sample/%s_output.png'% (step),samples[1])\n",
    "batch_xs, batch_ys = mnist.test.next_batch(30)\n",
    "test_y = [[ 1.,  0.,  0.,  0.,  0.,  0.,  0.,  0.,  0.,  0.],\n",
    "          [ 0.,  1.,  0.,  0.,  0.,  0.,  0.,  0.,  0.,  0.],\n",
    "          [ 0.,  0.,  1.,  0.,  0.,  0.,  0.,  0.,  0.,  0.],\n",
    "          [ 0.,  0.,  0.,  1.,  0.,  0.,  0.,  0.,  0.,  0.],\n",
    "          [ 0.,  0.,  0.,  0.,  1.,  0.,  0.,  0.,  0.,  0.],\n",
    "          [ 0.,  0.,  0.,  0.,  0.,  1.,  0.,  0.,  0.,  0.],\n",
    "          [ 0.,  0.,  0.,  0.,  0.,  0.,  1.,  0.,  0.,  0.],\n",
    "          [ 0.,  0.,  0.,  0.,  0.,  0.,  0.,  1.,  0.,  0.],\n",
    "          [ 0.,  0.,  0.,  0.,  0.,  0.,  0.,  0.,  1.,  0.],\n",
    "          [ 0.,  0.,  0.,  0.,  0.,  0.,  0.,  0.,  0.,  1.]]\n",
    "# feed_dict={x: batch_xs[:len(test_y)],y_:test_y}"
   ]
  },
  {
   "cell_type": "code",
   "execution_count": null,
   "metadata": {
    "collapsed": true
   },
   "outputs": [],
   "source": []
  },
  {
   "cell_type": "code",
   "execution_count": null,
   "metadata": {
    "collapsed": true
   },
   "outputs": [],
   "source": []
  },
  {
   "cell_type": "code",
   "execution_count": null,
   "metadata": {
    "collapsed": true
   },
   "outputs": [],
   "source": []
  },
  {
   "cell_type": "code",
   "execution_count": null,
   "metadata": {
    "collapsed": true
   },
   "outputs": [],
   "source": []
  },
  {
   "cell_type": "code",
   "execution_count": null,
   "metadata": {
    "collapsed": true
   },
   "outputs": [],
   "source": []
  },
  {
   "cell_type": "code",
   "execution_count": null,
   "metadata": {
    "collapsed": true
   },
   "outputs": [],
   "source": []
  },
  {
   "cell_type": "code",
   "execution_count": null,
   "metadata": {
    "collapsed": true
   },
   "outputs": [],
   "source": []
  },
  {
   "cell_type": "code",
   "execution_count": null,
   "metadata": {
    "collapsed": true
   },
   "outputs": [],
   "source": []
  },
  {
   "cell_type": "code",
   "execution_count": null,
   "metadata": {
    "collapsed": true
   },
   "outputs": [],
   "source": []
  },
  {
   "cell_type": "code",
   "execution_count": null,
   "metadata": {
    "collapsed": true
   },
   "outputs": [],
   "source": []
  },
  {
   "cell_type": "code",
   "execution_count": null,
   "metadata": {
    "collapsed": true
   },
   "outputs": [],
   "source": []
  },
  {
   "cell_type": "code",
   "execution_count": null,
   "metadata": {
    "collapsed": false
   },
   "outputs": [],
   "source": [
    "# def linear(input, output_dim, scope=None, stddev=0.01):\n",
    "#     norm = tf.random_normal_initializer(stddev=stddev)\n",
    "#     const = tf.constant_initializer(0.0)\n",
    "#     with tf.variable_scope(scope or 'linear'):\n",
    "#         w = tf.get_variable('w', [input.get_shape()[1], output_dim], initializer=norm)\n",
    "#         b = tf.get_variable('b', [output_dim], initializer=const)\n",
    "#         return tf.matmul(input, w) + b"
   ]
  },
  {
   "cell_type": "code",
   "execution_count": null,
   "metadata": {
    "collapsed": true
   },
   "outputs": [],
   "source": []
  },
  {
   "cell_type": "code",
   "execution_count": null,
   "metadata": {
    "collapsed": true
   },
   "outputs": [],
   "source": []
  },
  {
   "cell_type": "code",
   "execution_count": null,
   "metadata": {
    "collapsed": true
   },
   "outputs": [],
   "source": []
  },
  {
   "cell_type": "code",
   "execution_count": null,
   "metadata": {
    "collapsed": true
   },
   "outputs": [],
   "source": []
  },
  {
   "cell_type": "code",
   "execution_count": null,
   "metadata": {
    "collapsed": false,
    "scrolled": true
   },
   "outputs": [],
   "source": [
    "# Create the model\n",
    "x = tf.placeholder(tf.float32, [None, 784])\n",
    "y_ = tf.placeholder(tf.float32, [None, 10])\n",
    "\n",
    "hidden  = tf.nn.relu(linear(y_,  1000, scope='c_h1', stddev=0.01))\n",
    "a1 = tf.nn.relu(linear(hidden,  1000, scope='c_a1', stddev=0.01))\n",
    "a2 = tf.nn.relu(linear(hidden,  1000, scope='c_a2', stddev=0.01))\n",
    "a3 = tf.nn.relu(linear(hidden,  1000, scope='c_a3', stddev=0.01))\n",
    "b1 = tf.nn.relu(linear(hidden,  1000, scope='c_b1', stddev=0.01))\n",
    "b2 = tf.nn.relu(linear(hidden,  1000, scope='c_b2', stddev=0.01))\n",
    "b3 = tf.nn.relu(linear(hidden,  1000, scope='c_b3', stddev=0.01))\n",
    "\n",
    "\n",
    "\n",
    "h1 =linear(x,  1000, scope='c_layer1', stddev=0.01)\n",
    "h1_c = tf.nn.relu(tf.mul(h1,a1)+b1)\n",
    "h2 = tf.nn.relu(linear(h1_c, 1000, scope='c_layer2', stddev=0.01))\n",
    "h2_c = tf.nn.relu(tf.mul(h2,a2)+b2)\n",
    "h3 = tf.nn.relu(linear(h2_c, 1000, scope='c_layer3', stddev=0.01))\n",
    "h3_c = tf.nn.relu(tf.mul(h3,a3)+b3)\n",
    "h4 = linear(h3_c, 784, scope='c_layer4', stddev=0.01)\n",
    "out_vecter = tf.sigmoid(h4)\n",
    "out_image = tf.reshape(out_vecter,[-1,28,28])\n",
    "\n",
    "def recognition_network(images,reuse = False):\n",
    "    if reuse:\n",
    "            tf.get_variable_scope().reuse_variables()\n",
    "    output = tf.nn.relu(linear(images, 1000, scope='r_layer1', stddev=0.01))\n",
    "    output = tf.nn.softmax(linear(output, 10, scope='r_layer2', stddev=0.01))\n",
    "    return output\n",
    "# Define loss and optimizer\n",
    "y_clf = recognition_network(x)\n",
    "y_clf_g = recognition_network(out_vecter,reuse =True)\n",
    "\n",
    "cross_entropy_recog = tf.reduce_mean(tf.nn.softmax_cross_entropy_with_logits(y_clf, y_))\n",
    "cross_entropy_gen = tf.reduce_mean(tf.nn.softmax_cross_entropy_with_logits(y_clf_g, y_)) \n",
    "# + \\\n",
    "# tf.reduce_mean(tf.nn.softmax_cross_entropy_with_logits(y_clf_g, y_))\n",
    "reconstruction_loss = tf.reduce_mean(tf.squared_difference(out_vecter,x))\n",
    "loss = reconstruction_loss + 7.2*cross_entropy_gen\n",
    "#cross_entropy = tf.reduce_mean(tf.nn.softmax_cross_entropy_with_logits(y, y_))\n",
    "#train_step = tf.train.GradientDescentOptimizer(0.01).minimize(loss)\n",
    "#t_vars = tf.trainable_variables()\n",
    "t_vars = tf.trainable_variables()\n",
    "contr_params = [var for var in t_vars if 'c_' in var.name]\n",
    "recog_params = [var for var in t_vars if 'r_' in var.name]\n",
    "\n",
    "optim = tf.train.AdamOptimizer(learning_rate=1e-3). \\\n",
    "        minimize(loss,var_list=contr_params) \n",
    "optim_recog = tf.train.AdamOptimizer(learning_rate=1e-3). \\\n",
    "        minimize(cross_entropy_recog,var_list=recog_params) \n",
    "\n",
    "session_conf = tf.ConfigProto(gpu_options = tf.GPUOptions(per_process_gpu_memory_fraction=0.5),\n",
    "                              allow_soft_placement=True,\n",
    "                              log_device_placement=False)\n",
    "sess = tf.InteractiveSession(config=session_conf)\n",
    "# Train\n",
    "tf.initialize_all_variables().run()\n",
    "batch_size = 100\n",
    "#pretrain recognition network\n",
    "# for step in range(5001):\n",
    "#     batch_xs, batch_ys = mnist.train.next_batch(batch_size)\n",
    "#     _ = sess.run(optim_recog,feed_dict={x: batch_xs,y_:batch_ys})\n",
    "for step in range(3001):\n",
    "    batch_xs, batch_ys = mnist.train.next_batch(batch_size)\n",
    "    norm_image = np.random.uniform(0, 1, [batch_size,784]).astype(np.float32)\n",
    "    if np.random.rand(1)>1:\n",
    "        batch_xs = norm_image\n",
    "    x_bat = np.reshape(batch_xs,[-1,28,28])\n",
    "    samples,_,_,loss_,cross_entropy_gen_,reconstruction_loss_ = sess.run([out_image,\n",
    "                                                                        optim_recog,\n",
    "                                                                          optim,\n",
    "                                                                          loss,\n",
    "                                                                          cross_entropy_gen,\n",
    "                                                                          reconstruction_loss]\n",
    "                                                                          ,feed_dict={x: batch_xs,y_:batch_ys})\n",
    "    \n",
    "    if step %50 ==0:\n",
    "        print('step : '+str(step)+' loss : '+ str(loss_)\\\n",
    "              +' loss_reconstruction : '+ str(reconstruction_loss_)\\\n",
    "              +' loss_gen : '+ str(cross_entropy_gen_))\n",
    "   \n",
    "    if step % 2000 ==0:\n",
    "        scipy.misc.imsave('./sample/%s_input.png'% (step),x_bat[1])    \n",
    "        scipy.misc.imsave('./sample/%s_output.png'% (step),samples[1])\n",
    "batch_xs, batch_ys = mnist.test.next_batch(30)\n",
    "test_y = [[ 1.,  0.,  0.,  0.,  0.,  0.,  0.,  0.,  0.,  0.],\n",
    "          [ 0.,  1.,  0.,  0.,  0.,  0.,  0.,  0.,  0.,  0.],\n",
    "          [ 0.,  0.,  1.,  0.,  0.,  0.,  0.,  0.,  0.,  0.],\n",
    "          [ 0.,  0.,  0.,  1.,  0.,  0.,  0.,  0.,  0.,  0.],\n",
    "          [ 0.,  0.,  0.,  0.,  1.,  0.,  0.,  0.,  0.,  0.],\n",
    "          [ 0.,  0.,  0.,  0.,  0.,  1.,  0.,  0.,  0.,  0.],\n",
    "          [ 0.,  0.,  0.,  0.,  0.,  0.,  1.,  0.,  0.,  0.],\n",
    "          [ 0.,  0.,  0.,  0.,  0.,  0.,  0.,  1.,  0.,  0.],\n",
    "          [ 0.,  0.,  0.,  0.,  0.,  0.,  0.,  0.,  1.,  0.],\n",
    "          [ 0.,  0.,  0.,  0.,  0.,  0.,  0.,  0.,  0.,  1.]]\n",
    "# feed_dict={x: batch_xs[:len(test_y)],y_:test_y}\n",
    "# samples_test= sess.run(out_image, feed_dict=feed_dict)\n",
    "# in_test= np.reshape(batch_xs[0:len(test_y)],[-1,28,28])\n",
    "# for i in range(len(test_y)):\n",
    "#     scipy.misc.imsave('./sample/%s_test_output.png'% (i),samples_test[i])\n",
    "#     scipy.misc.imsave('./sample/%s_test_input.png'% (i),in_test[i])\n"
   ]
  },
  {
   "cell_type": "code",
   "execution_count": null,
   "metadata": {
    "collapsed": false
   },
   "outputs": [],
   "source": [
    "test_batch = batch_xs[-8:] \n",
    "test_image = []\n",
    "for i in range(10):\n",
    "    feed_dict={x: test_batch,y_:np.repeat([test_y[i]],8, axis=0)}\n",
    "    samples_test= sess.run(out_image, feed_dict=feed_dict)\n",
    "    test_image.append(samples_test)\n",
    "test_image = np.array(test_image)    "
   ]
  },
  {
   "cell_type": "code",
   "execution_count": null,
   "metadata": {
    "collapsed": false
   },
   "outputs": [],
   "source": [
    "np.shape(test_image)"
   ]
  },
  {
   "cell_type": "code",
   "execution_count": null,
   "metadata": {
    "collapsed": false
   },
   "outputs": [],
   "source": [
    "import matplotlib\n",
    "matplotlib.use('Agg')\n",
    "import matplotlib.pyplot as plt\n",
    "%matplotlib inline\n",
    "def reshape_image(np_x,row,column):\n",
    "    np_x = np_x.reshape((column,row,28,28))\n",
    "    # split into 10 (1,10,28,28) images, concat along columns -> 1,10,28,280\n",
    "    np_x = np.concatenate(np.split(np_x,column,axis=0),axis=3)\n",
    "    # split into 10 (1,1,28,280) images, concat along rows -> 1,1,280,280\n",
    "    np_x = np.concatenate(np.split(np_x,row,axis=1),axis=2)\n",
    "    x_img = np.squeeze(np_x)\n",
    "    return x_img"
   ]
  },
  {
   "cell_type": "code",
   "execution_count": null,
   "metadata": {
    "collapsed": false
   },
   "outputs": [],
   "source": [
    "img_test = reshape_image(test_image,8,10)\n",
    "img_org = reshape_image(test_batch,8,1)"
   ]
  },
  {
   "cell_type": "code",
   "execution_count": null,
   "metadata": {
    "collapsed": false
   },
   "outputs": [],
   "source": [
    "f,axarr=plt.subplots(1,2,figsize=(8,3),sharey=True)\n",
    "# samples\n",
    "axarr[0].imshow(img_org,cmap=plt.cm.gray,interpolation='none')\n",
    "axarr[0].set_title('original image')\n",
    "# reconstruction\n",
    "axarr[1].imshow(img_test,cmap=plt.cm.gray,interpolation='none')\n",
    "axarr[1].set_title('Generated Images')"
   ]
  },
  {
   "cell_type": "code",
   "execution_count": null,
   "metadata": {
    "collapsed": true
   },
   "outputs": [],
   "source": [
    "#np.repeat([test_batch[i]],10, axis=0)"
   ]
  }
 ],
 "metadata": {
  "kernelspec": {
   "display_name": "Python 2",
   "language": "python",
   "name": "python2"
  },
  "language_info": {
   "codemirror_mode": {
    "name": "ipython",
    "version": 2
   },
   "file_extension": ".py",
   "mimetype": "text/x-python",
   "name": "python",
   "nbconvert_exporter": "python",
   "pygments_lexer": "ipython2",
   "version": "2.7.9"
  }
 },
 "nbformat": 4,
 "nbformat_minor": 1
}
